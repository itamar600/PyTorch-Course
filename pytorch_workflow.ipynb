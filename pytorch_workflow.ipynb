{
  "nbformat": 4,
  "nbformat_minor": 0,
  "metadata": {
    "colab": {
      "provenance": []
    },
    "kernelspec": {
      "name": "python3",
      "display_name": "Python 3"
    },
    "language_info": {
      "name": "python"
    }
  },
  "cells": [
    {
      "cell_type": "code",
      "execution_count": null,
      "metadata": {
        "colab": {
          "base_uri": "https://localhost:8080/",
          "height": 36
        },
        "id": "ycrJAoqwi0Lm",
        "outputId": "2142a4af-cc14-47f1-a5be-2e1c7a3a4e23"
      },
      "outputs": [
        {
          "output_type": "execute_result",
          "data": {
            "text/plain": [
              "'2.1.0+cu121'"
            ],
            "application/vnd.google.colaboratory.intrinsic+json": {
              "type": "string"
            }
          },
          "metadata": {},
          "execution_count": 239
        }
      ],
      "source": [
        "import torch\n",
        "from torch import nn # nn contains all of PyTorch's building blocks for neural networks\n",
        "import numpy as np\n",
        "import matplotlib.pyplot as plt\n",
        "\n",
        "\n",
        "# Check PyTorch version\n",
        "torch.__version__\n"
      ]
    },
    {
      "cell_type": "code",
      "source": [
        "what_were_covering = {1: \"data (prepare and load)\",\n",
        "                      2: \"build model\",\n",
        "                      3: \"fitting the model to data (training)\",\n",
        "                      4: \"making predictions and evaluting a model (interface)\",\n",
        "                      5: \"saving and loading a model\",\n",
        "                      6: \"putting it all together\"}"
      ],
      "metadata": {
        "id": "PgBHHzBTjDuZ"
      },
      "execution_count": null,
      "outputs": []
    },
    {
      "cell_type": "markdown",
      "source": [
        "## 1.Data (prepare and load)\n",
        "\n",
        "Machine learning is a game of two parts:\n",
        "1. Get data into a numerical representation.\n",
        "2. Build a model to learn patterns in that numerical representation.\n",
        "\n",
        "To shawcase this, lets create some known data using the linear regression formula.\n",
        "\n",
        "We'll use a a linear regression formula to make a straight line with known **parameters**\n",
        "\n"
      ],
      "metadata": {
        "id": "ULfC8k-3lPu6"
      }
    },
    {
      "cell_type": "markdown",
      "source": [],
      "metadata": {
        "id": "YXu4l2Zkw-wI"
      }
    },
    {
      "cell_type": "code",
      "source": [
        "# Create *known* parameters\n",
        "weight = 0.7\n",
        "bias = 0.3\n",
        "\n",
        "# Create\n",
        "start = 0\n",
        "end = 1\n",
        "step = 0.02\n",
        "X = torch.arange(start, end, step). unsqueeze(dim=1)\n",
        "y = weight * X + bias\n",
        "\n",
        "X[:10], y[:10]"
      ],
      "metadata": {
        "colab": {
          "base_uri": "https://localhost:8080/"
        },
        "id": "jYqCxlE6j_7d",
        "outputId": "17c2f198-f389-42a6-d7cd-06a99e697304"
      },
      "execution_count": null,
      "outputs": [
        {
          "output_type": "execute_result",
          "data": {
            "text/plain": [
              "(tensor([[0.0000],\n",
              "         [0.0200],\n",
              "         [0.0400],\n",
              "         [0.0600],\n",
              "         [0.0800],\n",
              "         [0.1000],\n",
              "         [0.1200],\n",
              "         [0.1400],\n",
              "         [0.1600],\n",
              "         [0.1800]]),\n",
              " tensor([[0.3000],\n",
              "         [0.3140],\n",
              "         [0.3280],\n",
              "         [0.3420],\n",
              "         [0.3560],\n",
              "         [0.3700],\n",
              "         [0.3840],\n",
              "         [0.3980],\n",
              "         [0.4120],\n",
              "         [0.4260]]))"
            ]
          },
          "metadata": {},
          "execution_count": 241
        }
      ]
    },
    {
      "cell_type": "code",
      "source": [
        "len(X), len(y)"
      ],
      "metadata": {
        "colab": {
          "base_uri": "https://localhost:8080/"
        },
        "id": "Hs5CwMAEn4y5",
        "outputId": "ae702ec3-bf8f-4fc1-9af2-92477afeeb21"
      },
      "execution_count": null,
      "outputs": [
        {
          "output_type": "execute_result",
          "data": {
            "text/plain": [
              "(50, 50)"
            ]
          },
          "metadata": {},
          "execution_count": 242
        }
      ]
    },
    {
      "cell_type": "markdown",
      "source": [
        "## Splitting data into training and test sets (one of the most important concepts in machine learning in general)\n",
        "\n",
        "Let's create a training and test sets with our data."
      ],
      "metadata": {
        "id": "-1UD9NGjo4Xl"
      }
    },
    {
      "cell_type": "code",
      "source": [
        "# Create a train/test split\n",
        "train_split = int(0.8 * len(X))\n",
        "X_train, y_train = X[:train_split], y[:train_split]\n",
        "X_test, y_test = X[train_split:] , y[train_split:]\n",
        "\n",
        "len(X_train), len(y_train), len(X_test), len(y_test)"
      ],
      "metadata": {
        "colab": {
          "base_uri": "https://localhost:8080/"
        },
        "id": "seRNxoqEobCv",
        "outputId": "f04d585d-e19f-49a0-be68-6239ceea6b12"
      },
      "execution_count": null,
      "outputs": [
        {
          "output_type": "execute_result",
          "data": {
            "text/plain": [
              "(40, 40, 10, 10)"
            ]
          },
          "metadata": {},
          "execution_count": 243
        }
      ]
    },
    {
      "cell_type": "markdown",
      "source": [
        "How might we better visualing our data?\n",
        "\n",
        "This is where the data explorer's motto comes in!\n",
        "\n",
        "\"Visualize, visualize, visualize...\""
      ],
      "metadata": {
        "id": "7MIurlhhqnlr"
      }
    },
    {
      "cell_type": "code",
      "source": [
        "def plot_predictions(train_data = X_train,\n",
        "                     train_labels = y_train,\n",
        "                     test_data = X_test,\n",
        "                     test_labels = y_test,\n",
        "                     predictions = None):\n",
        "  \"\"\"\n",
        "  Plots training data, test data and compares predictions.\n",
        "  \"\"\"\n",
        "  plt.figure(figsize=(10,7))\n",
        "\n",
        "  # Plot training data in blue\n",
        "  plt.scatter(train_data, train_labels, c=\"b\", s=4, label = \"Training data\")\n",
        "\n",
        "  # Plot test data in blue\n",
        "  plt.scatter(test_data, test_labels, c=\"g\", s=4, label = \"Testing data\")\n",
        "\n",
        "  # Are there predictions?\n",
        "  if predictions is not None:\n",
        "    # Plot the predictions if they exists\n",
        "    plt.scatter(test_data, predictions, c=\"r\", s=4, label = \"Predictions\")\n",
        "\n",
        "  # Show the legend\n",
        "  plt.legend(prop={\"size\": 14});"
      ],
      "metadata": {
        "id": "ZtqpxBidqVdl"
      },
      "execution_count": null,
      "outputs": []
    },
    {
      "cell_type": "code",
      "source": [
        "plot_predictions()"
      ],
      "metadata": {
        "colab": {
          "base_uri": "https://localhost:8080/",
          "height": 498
        },
        "id": "LMA14ZVotbeT",
        "outputId": "bd680b36-3f10-4f3d-8ae7-a1cc8fd15c87"
      },
      "execution_count": null,
      "outputs": [
        {
          "output_type": "display_data",
          "data": {
            "text/plain": [
              "<Figure size 1000x700 with 1 Axes>"
            ],
            "image/png": "[encoded data removed]"
          },
          "metadata": {}
        }
      ]
    },
    {
      "cell_type": "markdown",
      "source": [
        "## 2. Build model\n",
        "\n"
      ],
      "metadata": {
        "id": "FC1-WaYAuS28"
      }
    },
    {
      "cell_type": "code",
      "source": [
        "# Create linear regression model class\n",
        "class LinearRegressionModel(nn.Module): # <- almost everything in PyTorch inherhits from nn.Module\n",
        "  def __init__(self):\n",
        "    super().__init__()\n",
        "    self.weights = nn.Parameter(torch.randn(1, requires_grad=True, dtype=torch.float))\n",
        "    self.bais = nn.Parameter(torch.randn(1, requires_grad=True, dtype=torch.float))\n",
        "\n",
        "  # Forward method to define the computation in the model\n",
        "  def forward(self, X: torch.Tensor) -> torch.Tensor:\n",
        "    return self.weights * X + self.bais\n",
        "\n",
        "\n"
      ],
      "metadata": {
        "id": "Xbm6DRPhtg29"
      },
      "execution_count": null,
      "outputs": []
    },
    {
      "cell_type": "markdown",
      "source": [
        "Two main algorithms:\n",
        "1. Gradient descent\n",
        "2. Backpropagation"
      ],
      "metadata": {
        "id": "b73uq7L-xRgm"
      }
    },
    {
      "cell_type": "code",
      "source": [
        "# Create a random seed\n",
        "torch.manual_seed(42)\n",
        "\n",
        "# Create an instance of the model (this is a subclass of nn.Module)\n",
        "model_0 = LinearRegressionModel()\n",
        "list(model_0.parameters())"
      ],
      "metadata": {
        "id": "gRfuTPdbxhfA",
        "colab": {
          "base_uri": "https://localhost:8080/"
        },
        "outputId": "5a7454e0-33a4-47bb-c8ce-ea6b9bf54501"
      },
      "execution_count": null,
      "outputs": [
        {
          "output_type": "execute_result",
          "data": {
            "text/plain": [
              "[Parameter containing:\n",
              " tensor([0.3367], requires_grad=True),\n",
              " Parameter containing:\n",
              " tensor([0.1288], requires_grad=True)]"
            ]
          },
          "metadata": {},
          "execution_count": 247
        }
      ]
    },
    {
      "cell_type": "code",
      "source": [
        "# List named parameters\n",
        "model_0.state_dict()"
      ],
      "metadata": {
        "colab": {
          "base_uri": "https://localhost:8080/"
        },
        "id": "c2fTDgqYZMJr",
        "outputId": "5ec12dbc-5f5e-4455-d8f9-8ff34319d4bb"
      },
      "execution_count": null,
      "outputs": [
        {
          "output_type": "execute_result",
          "data": {
            "text/plain": [
              "OrderedDict([('weights', tensor([0.3367])), ('bais', tensor([0.1288]))])"
            ]
          },
          "metadata": {},
          "execution_count": 248
        }
      ]
    },
    {
      "cell_type": "code",
      "source": [
        "weight, bias"
      ],
      "metadata": {
        "colab": {
          "base_uri": "https://localhost:8080/"
        },
        "id": "Iq8eB580ZgID",
        "outputId": "f08ab8b2-c277-4b1c-9235-c0a9f4399f5b"
      },
      "execution_count": null,
      "outputs": [
        {
          "output_type": "execute_result",
          "data": {
            "text/plain": [
              "(0.7, 0.3)"
            ]
          },
          "metadata": {},
          "execution_count": 249
        }
      ]
    },
    {
      "cell_type": "markdown",
      "source": [
        "### Making prediction using `torch.inference_mode()`\n",
        "\n",
        "To check our model's predicitive power, let's see how well it predicts `y_test` based on `x_test`.\n",
        "\n",
        "When we pass data through the `forword()` method"
      ],
      "metadata": {
        "id": "1l17cBh7Z4Fs"
      }
    },
    {
      "cell_type": "code",
      "source": [
        "# Make prediction with model\n",
        "with torch.inference_mode():\n",
        "  y_preds = model_0(X_test)\n",
        "\n",
        "y_preds"
      ],
      "metadata": {
        "colab": {
          "base_uri": "https://localhost:8080/"
        },
        "id": "FjSv3X8MZq0D",
        "outputId": "ed293b8b-0177-4b1a-ea61-826a219930e6"
      },
      "execution_count": null,
      "outputs": [
        {
          "output_type": "execute_result",
          "data": {
            "text/plain": [
              "tensor([[0.3982],\n",
              "        [0.4049],\n",
              "        [0.4116],\n",
              "        [0.4184],\n",
              "        [0.4251],\n",
              "        [0.4318],\n",
              "        [0.4386],\n",
              "        [0.4453],\n",
              "        [0.4520],\n",
              "        [0.4588]])"
            ]
          },
          "metadata": {},
          "execution_count": 250
        }
      ]
    },
    {
      "cell_type": "code",
      "source": [
        "y_test"
      ],
      "metadata": {
        "colab": {
          "base_uri": "https://localhost:8080/"
        },
        "id": "_SndGf-6bTmV",
        "outputId": "81ad7920-8127-467e-b7f3-588433f4c443"
      },
      "execution_count": null,
      "outputs": [
        {
          "output_type": "execute_result",
          "data": {
            "text/plain": [
              "tensor([[0.8600],\n",
              "        [0.8740],\n",
              "        [0.8880],\n",
              "        [0.9020],\n",
              "        [0.9160],\n",
              "        [0.9300],\n",
              "        [0.9440],\n",
              "        [0.9580],\n",
              "        [0.9720],\n",
              "        [0.9860]])"
            ]
          },
          "metadata": {},
          "execution_count": 251
        }
      ]
    },
    {
      "cell_type": "code",
      "source": [
        "plot_predictions(predictions=y_preds)"
      ],
      "metadata": {
        "colab": {
          "base_uri": "https://localhost:8080/",
          "height": 498
        },
        "id": "xJ0-n3czbwqT",
        "outputId": "751f457c-a265-4bfb-ff89-2b714bca7bb2"
      },
      "execution_count": null,
      "outputs": [
        {
          "output_type": "display_data",
          "data": {
            "text/plain": [
              "<Figure size 1000x700 with 1 Axes>"
            ],
            "image/png": "[encoded data removed]"
          },
          "metadata": {}
        }
      ]
    },
    {
      "cell_type": "code",
      "source": [
        "# Setup a loss function\n",
        "loss_fn = nn.L1Loss()\n",
        "\n",
        "# Setup an optimizer\n",
        "optimizer = torch.optim.SGD(params=model_0.parameters(),lr=0.001) #learning rate"
      ],
      "metadata": {
        "id": "DTYgLhF5cBeO"
      },
      "execution_count": null,
      "outputs": []
    },
    {
      "cell_type": "markdown",
      "source": [
        "### Building a training loop (and a testing loop) in PyTorch\n",
        "\n",
        "A couple of thing we need in a training loop:\n",
        "\n",
        "\n",
        "1.   Loop through the data\n",
        "2.   Forward pass (this involves data moving our model's `forward()` function) to make predictions on data - also called forward propagation.\n",
        "3.   Calculate the loss (compare forward pass predictions to ground truth labels)\n",
        "4.   Optimizer zero grad\n",
        "5.   Loss backward - move backwards through the netwaork to calculate the gradients of each of the parameters of our model with respect to the loss\n",
        "6.   Optimizer step - use the ptimizer to adjust our model's params to try and improve the loss.\n",
        "\n"
      ],
      "metadata": {
        "id": "Q4_a1n5zguBV"
      }
    },
    {
      "cell_type": "code",
      "source": [
        "# An epoch is one loop through the data\n",
        "epochs = 2000\n",
        "\n",
        "# Track different values\n",
        "epoch_count = []\n",
        "loss_values = []\n",
        "test_loss_values = []\n",
        "\n",
        "# 1. Loop through the data\n",
        "for epoch in range(epochs):\n",
        "  model_0.train() # train mode in PyTorch sets all params that require gradients to require gradients\n",
        "\n",
        "  # 2. Forward pass\n",
        "  y_pred = model_0(X_train)\n",
        "\n",
        "  # 3. Calculate the loss\n",
        "  loss = loss_fn(y_pred, y_train)\n",
        "\n",
        "  # 4. Optimizer zero grad\n",
        "  optimizer.zero_grad()\n",
        "\n",
        "  # 5. Perform backpropagation on the loss with respect to the params of the model\n",
        "  loss.backward()\n",
        "\n",
        "  # 6. Step the optimizer (perform gradient descent)\n",
        "  optimizer.step()\n",
        "\n",
        "  ### Testing\n",
        "  model_0.eval() # turns off gradient tracking\n",
        "  with torch.inference_mode():\n",
        "    # 1. Do the forward pass\n",
        "    test_pred = model_0(X_test)\n",
        "\n",
        "    # 2. Calculate the loss\n",
        "    test_loss = loss_fn(test_pred, y_test)\n",
        "  if epoch % 10 == 0:\n",
        "    epoch_count.append(epoch)\n",
        "    loss_values.append(loss)\n",
        "    test_loss_values.append(test_loss)\n",
        "    print(f\"Epoch: {epoch} | Loss: {loss} | Test loss: {test_loss}\")\n",
        "\n",
        "  # print(model_0.state_dict())\n"
      ],
      "metadata": {
        "colab": {
          "base_uri": "https://localhost:8080/"
        },
        "id": "gzepO7jqfdfk",
        "outputId": "e80c5b78-cd87-49e6-8da9-33e49d6ce261"
      },
      "execution_count": null,
      "outputs": [
        {
          "output_type": "stream",
          "name": "stdout",
          "text": [
            "Epoch: 0 | Loss: 0.31288138031959534 | Test loss: 0.4931890368461609\n",
            "Epoch: 10 | Loss: 0.3013603389263153 | Test loss: 0.4797181189060211\n",
            "Epoch: 20 | Loss: 0.28983938694000244 | Test loss: 0.4662471413612366\n",
            "Epoch: 30 | Loss: 0.2783183455467224 | Test loss: 0.4527761936187744\n",
            "Epoch: 40 | Loss: 0.26679736375808716 | Test loss: 0.43930521607398987\n",
            "Epoch: 50 | Loss: 0.2552763819694519 | Test loss: 0.4258342385292053\n",
            "Epoch: 60 | Loss: 0.24375538527965546 | Test loss: 0.41236335039138794\n",
            "Epoch: 70 | Loss: 0.232234388589859 | Test loss: 0.398892343044281\n",
            "Epoch: 80 | Loss: 0.22071340680122375 | Test loss: 0.38542139530181885\n",
            "Epoch: 90 | Loss: 0.2091923952102661 | Test loss: 0.3719504475593567\n",
            "Epoch: 100 | Loss: 0.19767141342163086 | Test loss: 0.35847947001457214\n",
            "Epoch: 110 | Loss: 0.18615040183067322 | Test loss: 0.34500852227211\n",
            "Epoch: 120 | Loss: 0.17462942004203796 | Test loss: 0.33153754472732544\n",
            "Epoch: 130 | Loss: 0.16310855746269226 | Test loss: 0.3180667459964752\n",
            "Epoch: 140 | Loss: 0.15158770978450775 | Test loss: 0.304595947265625\n",
            "Epoch: 150 | Loss: 0.14006686210632324 | Test loss: 0.2911251187324524\n",
            "Epoch: 160 | Loss: 0.12854602932929993 | Test loss: 0.2776543200016022\n",
            "Epoch: 170 | Loss: 0.11702518165111542 | Test loss: 0.26418352127075195\n",
            "Epoch: 180 | Loss: 0.10654274374246597 | Test loss: 0.251315176486969\n",
            "Epoch: 190 | Loss: 0.09747617691755295 | Test loss: 0.2392154484987259\n",
            "Epoch: 200 | Loss: 0.08973254263401031 | Test loss: 0.22795839607715607\n",
            "Epoch: 210 | Loss: 0.08306284993886948 | Test loss: 0.21740305423736572\n",
            "Epoch: 220 | Loss: 0.07729282230138779 | Test loss: 0.20750825107097626\n",
            "Epoch: 230 | Loss: 0.07242877781391144 | Test loss: 0.19840054214000702\n",
            "Epoch: 240 | Loss: 0.06828799843788147 | Test loss: 0.18992407619953156\n",
            "Epoch: 250 | Loss: 0.06476505100727081 | Test loss: 0.18208928406238556\n",
            "Epoch: 260 | Loss: 0.06174134090542793 | Test loss: 0.17478716373443604\n",
            "Epoch: 270 | Loss: 0.05915876477956772 | Test loss: 0.16802480816841125\n",
            "Epoch: 280 | Loss: 0.0569603331387043 | Test loss: 0.161748006939888\n",
            "Epoch: 290 | Loss: 0.05514555424451828 | Test loss: 0.15608695149421692\n",
            "Epoch: 300 | Loss: 0.05357731133699417 | Test loss: 0.15086300671100616\n",
            "Epoch: 310 | Loss: 0.05218071490526199 | Test loss: 0.14595307409763336\n",
            "Epoch: 320 | Loss: 0.05105169489979744 | Test loss: 0.1415499746799469\n",
            "Epoch: 330 | Loss: 0.050030313432216644 | Test loss: 0.1374681293964386\n",
            "Epoch: 340 | Loss: 0.049160152673721313 | Test loss: 0.13370750844478607\n",
            "Epoch: 350 | Loss: 0.04836020991206169 | Test loss: 0.13020753860473633\n",
            "Epoch: 360 | Loss: 0.04769856110215187 | Test loss: 0.12709848582744598\n",
            "Epoch: 370 | Loss: 0.04703690856695175 | Test loss: 0.12398938834667206\n",
            "Epoch: 380 | Loss: 0.04650093987584114 | Test loss: 0.12147434055805206\n",
            "Epoch: 390 | Loss: 0.045996345579624176 | Test loss: 0.11902527511119843\n",
            "Epoch: 400 | Loss: 0.04549176245927811 | Test loss: 0.11657620966434479\n",
            "Epoch: 410 | Loss: 0.045014552772045135 | Test loss: 0.11432783305644989\n",
            "Epoch: 420 | Loss: 0.04461454600095749 | Test loss: 0.11254779994487762\n",
            "Epoch: 430 | Loss: 0.04421453922986984 | Test loss: 0.11076776683330536\n",
            "Epoch: 440 | Loss: 0.043814532458782196 | Test loss: 0.1089877337217331\n",
            "Epoch: 450 | Loss: 0.04341452196240425 | Test loss: 0.10720770061016083\n",
            "Epoch: 460 | Loss: 0.043014515191316605 | Test loss: 0.10542766749858856\n",
            "Epoch: 470 | Loss: 0.04265119880437851 | Test loss: 0.10419009625911713\n",
            "Epoch: 480 | Loss: 0.04230218380689621 | Test loss: 0.1030881255865097\n",
            "Epoch: 490 | Loss: 0.04195316880941391 | Test loss: 0.10198615491390228\n",
            "Epoch: 500 | Loss: 0.04160415381193161 | Test loss: 0.10088418424129486\n",
            "Epoch: 510 | Loss: 0.04125513881444931 | Test loss: 0.09978221356868744\n",
            "Epoch: 520 | Loss: 0.04090612381696701 | Test loss: 0.09868024289608002\n",
            "Epoch: 530 | Loss: 0.04055710881948471 | Test loss: 0.0975782722234726\n",
            "Epoch: 540 | Loss: 0.04020809382200241 | Test loss: 0.09647630155086517\n",
            "Epoch: 550 | Loss: 0.03985908254981041 | Test loss: 0.09537436813116074\n",
            "Epoch: 560 | Loss: 0.03951007127761841 | Test loss: 0.09427239745855331\n",
            "Epoch: 570 | Loss: 0.03916105255484581 | Test loss: 0.09317042678594589\n",
            "Epoch: 580 | Loss: 0.03881204128265381 | Test loss: 0.09206845611333847\n",
            "Epoch: 590 | Loss: 0.03846302255988121 | Test loss: 0.09096648544073105\n",
            "Epoch: 600 | Loss: 0.03811401128768921 | Test loss: 0.08986451476812363\n",
            "Epoch: 610 | Loss: 0.03776499256491661 | Test loss: 0.0887625440955162\n",
            "Epoch: 620 | Loss: 0.03741598129272461 | Test loss: 0.08766057342290878\n",
            "Epoch: 630 | Loss: 0.037067197263240814 | Test loss: 0.08662726730108261\n",
            "Epoch: 640 | Loss: 0.03672432154417038 | Test loss: 0.08579986542463303\n",
            "Epoch: 650 | Loss: 0.03638043254613876 | Test loss: 0.08497253060340881\n",
            "Epoch: 660 | Loss: 0.036036938428878784 | Test loss: 0.08421380817890167\n",
            "Epoch: 670 | Loss: 0.035693906247615814 | Test loss: 0.08338643610477448\n",
            "Epoch: 680 | Loss: 0.035350002348423004 | Test loss: 0.08255907148122787\n",
            "Epoch: 690 | Loss: 0.035006679594516754 | Test loss: 0.08180035650730133\n",
            "Epoch: 700 | Loss: 0.03466346859931946 | Test loss: 0.08097299933433533\n",
            "Epoch: 710 | Loss: 0.03431956097483635 | Test loss: 0.08014564216136932\n",
            "Epoch: 720 | Loss: 0.03397642448544502 | Test loss: 0.07938691228628159\n",
            "Epoch: 730 | Loss: 0.0336330309510231 | Test loss: 0.07855955511331558\n",
            "Epoch: 740 | Loss: 0.03328912332653999 | Test loss: 0.07773219794034958\n",
            "Epoch: 750 | Loss: 0.032946161925792694 | Test loss: 0.07697348296642303\n",
            "Epoch: 760 | Loss: 0.03260258957743645 | Test loss: 0.07614611089229584\n",
            "Epoch: 770 | Loss: 0.0322587676346302 | Test loss: 0.07538740336894989\n",
            "Epoch: 780 | Loss: 0.031915903091430664 | Test loss: 0.07456003129482269\n",
            "Epoch: 790 | Loss: 0.031572166830301285 | Test loss: 0.07373266667127609\n",
            "Epoch: 800 | Loss: 0.03122851625084877 | Test loss: 0.07297395914793015\n",
            "Epoch: 810 | Loss: 0.03088562563061714 | Test loss: 0.07214658707380295\n",
            "Epoch: 820 | Loss: 0.03054172359406948 | Test loss: 0.07131922990083694\n",
            "Epoch: 830 | Loss: 0.030198251828551292 | Test loss: 0.0705605149269104\n",
            "Epoch: 840 | Loss: 0.029855191707611084 | Test loss: 0.0697331428527832\n",
            "Epoch: 850 | Loss: 0.029511287808418274 | Test loss: 0.0689057856798172\n",
            "Epoch: 860 | Loss: 0.02916799485683441 | Test loss: 0.06814707070589066\n",
            "Epoch: 870 | Loss: 0.028824755921959877 | Test loss: 0.06731969118118286\n",
            "Epoch: 880 | Loss: 0.02848084643483162 | Test loss: 0.06649234890937805\n",
            "Epoch: 890 | Loss: 0.02813773788511753 | Test loss: 0.06573362648487091\n",
            "Epoch: 900 | Loss: 0.027794325724244118 | Test loss: 0.06490625441074371\n",
            "Epoch: 910 | Loss: 0.02745041623711586 | Test loss: 0.06407888978719711\n",
            "Epoch: 920 | Loss: 0.0271074827760458 | Test loss: 0.06332017481327057\n",
            "Epoch: 930 | Loss: 0.026763886213302612 | Test loss: 0.062492817640304565\n",
            "Epoch: 940 | Loss: 0.02642008289694786 | Test loss: 0.06173409894108772\n",
            "Epoch: 950 | Loss: 0.02607722207903862 | Test loss: 0.06090673804283142\n",
            "Epoch: 960 | Loss: 0.025733450427651405 | Test loss: 0.06007937341928482\n",
            "Epoch: 970 | Loss: 0.02538982965052128 | Test loss: 0.05932066589593887\n",
            "Epoch: 980 | Loss: 0.02504691109061241 | Test loss: 0.058493297547101974\n",
            "Epoch: 990 | Loss: 0.0247030109167099 | Test loss: 0.057665932923555374\n",
            "Epoch: 1000 | Loss: 0.02435956709086895 | Test loss: 0.05690721794962883\n",
            "Epoch: 1010 | Loss: 0.024016480892896652 | Test loss: 0.05607985332608223\n",
            "Epoch: 1020 | Loss: 0.02367258258163929 | Test loss: 0.055252473801374435\n",
            "Epoch: 1030 | Loss: 0.023329313844442368 | Test loss: 0.054493773728609085\n",
            "Epoch: 1040 | Loss: 0.022986043244600296 | Test loss: 0.05366641283035278\n",
            "Epoch: 1050 | Loss: 0.022642139345407486 | Test loss: 0.05283904820680618\n",
            "Epoch: 1060 | Loss: 0.02229905314743519 | Test loss: 0.05208033323287964\n",
            "Epoch: 1070 | Loss: 0.02195560745894909 | Test loss: 0.05125296115875244\n",
            "Epoch: 1080 | Loss: 0.021611705422401428 | Test loss: 0.05042559653520584\n",
            "Epoch: 1090 | Loss: 0.021268798038363457 | Test loss: 0.0496668815612793\n",
            "Epoch: 1100 | Loss: 0.02092517353594303 | Test loss: 0.0488395169377327\n",
            "Epoch: 1110 | Loss: 0.020581401884555817 | Test loss: 0.04808080196380615\n",
            "Epoch: 1120 | Loss: 0.020238537341356277 | Test loss: 0.047253452241420746\n",
            "Epoch: 1130 | Loss: 0.019894743338227272 | Test loss: 0.04642607644200325\n",
            "Epoch: 1140 | Loss: 0.019551146775484085 | Test loss: 0.0456673689186573\n",
            "Epoch: 1150 | Loss: 0.019208211451768875 | Test loss: 0.04483998939394951\n",
            "Epoch: 1160 | Loss: 0.018864300101995468 | Test loss: 0.044012635946273804\n",
            "Epoch: 1170 | Loss: 0.018520886078476906 | Test loss: 0.04325391724705696\n",
            "Epoch: 1180 | Loss: 0.01817776821553707 | Test loss: 0.04242655634880066\n",
            "Epoch: 1190 | Loss: 0.01783386431634426 | Test loss: 0.04159919545054436\n",
            "Epoch: 1200 | Loss: 0.017490629106760025 | Test loss: 0.04084048420190811\n",
            "Epoch: 1210 | Loss: 0.017147328704595566 | Test loss: 0.040013112127780914\n",
            "Epoch: 1220 | Loss: 0.016803432255983353 | Test loss: 0.03918575122952461\n",
            "Epoch: 1230 | Loss: 0.016460370272397995 | Test loss: 0.03842703625559807\n",
            "Epoch: 1240 | Loss: 0.016116898506879807 | Test loss: 0.03759966418147087\n",
            "Epoch: 1250 | Loss: 0.015772998332977295 | Test loss: 0.036772288382053375\n",
            "Epoch: 1260 | Loss: 0.01543011236935854 | Test loss: 0.03601359575986862\n",
            "Epoch: 1270 | Loss: 0.015086461789906025 | Test loss: 0.03518623113632202\n",
            "Epoch: 1280 | Loss: 0.014742719009518623 | Test loss: 0.03442750498652458\n",
            "Epoch: 1290 | Loss: 0.014399850741028786 | Test loss: 0.03360014408826828\n",
            "Epoch: 1300 | Loss: 0.014056024141609669 | Test loss: 0.03277278691530228\n",
            "Epoch: 1310 | Loss: 0.013712462969124317 | Test loss: 0.03201407939195633\n",
            "Epoch: 1320 | Loss: 0.013369491323828697 | Test loss: 0.031186699867248535\n",
            "Epoch: 1330 | Loss: 0.01302559394389391 | Test loss: 0.030359338968992233\n",
            "Epoch: 1340 | Loss: 0.012682202272117138 | Test loss: 0.029600614681839943\n",
            "Epoch: 1350 | Loss: 0.012339059263467789 | Test loss: 0.028773266822099686\n",
            "Epoch: 1360 | Loss: 0.011995160952210426 | Test loss: 0.02794589474797249\n",
            "Epoch: 1370 | Loss: 0.011651946231722832 | Test loss: 0.02718718722462654\n",
            "Epoch: 1380 | Loss: 0.011308628134429455 | Test loss: 0.026359815150499344\n",
            "Epoch: 1390 | Loss: 0.010964717715978622 | Test loss: 0.025532448664307594\n",
            "Epoch: 1400 | Loss: 0.010621682740747929 | Test loss: 0.0247737355530262\n",
            "Epoch: 1410 | Loss: 0.010278185829520226 | Test loss: 0.023946374654769897\n",
            "Epoch: 1420 | Loss: 0.009934291243553162 | Test loss: 0.023187648504972458\n",
            "Epoch: 1430 | Loss: 0.009591431356966496 | Test loss: 0.0223603006452322\n",
            "Epoch: 1440 | Loss: 0.00924774818122387 | Test loss: 0.021532922983169556\n",
            "Epoch: 1450 | Loss: 0.008904037065804005 | Test loss: 0.020774226635694504\n",
            "Epoch: 1460 | Loss: 0.008561169728636742 | Test loss: 0.019946854561567307\n",
            "Epoch: 1470 | Loss: 0.008217317052185535 | Test loss: 0.01911948248744011\n",
            "Epoch: 1480 | Loss: 0.007873778231441975 | Test loss: 0.018360769376158714\n",
            "Epoch: 1490 | Loss: 0.0075307851657271385 | Test loss: 0.01753341034054756\n",
            "Epoch: 1500 | Loss: 0.007186878472566605 | Test loss: 0.01670604944229126\n",
            "Epoch: 1510 | Loss: 0.006843519397079945 | Test loss: 0.01594732329249382\n",
            "Epoch: 1520 | Loss: 0.006500349845737219 | Test loss: 0.015119964256882668\n",
            "Epoch: 1530 | Loss: 0.006156443618237972 | Test loss: 0.014292603358626366\n",
            "Epoch: 1540 | Loss: 0.005813261028379202 | Test loss: 0.013533895835280418\n",
            "Epoch: 1550 | Loss: 0.005469909869134426 | Test loss: 0.012706518173217773\n",
            "Epoch: 1560 | Loss: 0.0051260096952319145 | Test loss: 0.011879158206284046\n",
            "Epoch: 1570 | Loss: 0.004782737232744694 | Test loss: 0.011086148209869862\n",
            "Epoch: 1580 | Loss: 0.004439301788806915 | Test loss: 0.010327416472136974\n",
            "Epoch: 1590 | Loss: 0.004096207674592733 | Test loss: 0.0095000509172678\n",
            "Epoch: 1600 | Loss: 0.003752306802198291 | Test loss: 0.008672690019011497\n",
            "Epoch: 1610 | Loss: 0.0034090480767190456 | Test loss: 0.007913952693343163\n",
            "Epoch: 1620 | Loss: 0.0030657730530947447 | Test loss: 0.007086604833602905\n",
            "Epoch: 1630 | Loss: 0.0027218691539019346 | Test loss: 0.006259244866669178\n",
            "Epoch: 1640 | Loss: 0.0023787864483892918 | Test loss: 0.005500525236129761\n",
            "Epoch: 1650 | Loss: 0.002035337733104825 | Test loss: 0.004673170857131481\n",
            "Epoch: 1660 | Loss: 0.0016914367442950606 | Test loss: 0.0038457990158349276\n",
            "Epoch: 1670 | Loss: 0.0013485297095030546 | Test loss: 0.0030870854388922453\n",
            "Epoch: 1680 | Loss: 0.0010049014817923307 | Test loss: 0.002259713364765048\n",
            "Epoch: 1690 | Loss: 0.0006616368773393333 | Test loss: 0.0014667033683508635\n",
            "Epoch: 1700 | Loss: 0.0003177322505507618 | Test loss: 0.0006393313524313271\n",
            "Epoch: 1710 | Loss: 0.0004444979131221771 | Test loss: 0.0005780101055279374\n",
            "Epoch: 1720 | Loss: 0.0004444979131221771 | Test loss: 0.0005780101055279374\n",
            "Epoch: 1730 | Loss: 0.0004444979131221771 | Test loss: 0.0005780101055279374\n",
            "Epoch: 1740 | Loss: 0.0004444979131221771 | Test loss: 0.0005780101055279374\n",
            "Epoch: 1750 | Loss: 0.0004444979131221771 | Test loss: 0.0005780101055279374\n",
            "Epoch: 1760 | Loss: 0.0004444979131221771 | Test loss: 0.0005780101055279374\n",
            "Epoch: 1770 | Loss: 0.0004444979131221771 | Test loss: 0.0005780101055279374\n",
            "Epoch: 1780 | Loss: 0.0004444979131221771 | Test loss: 0.0005780101055279374\n",
            "Epoch: 1790 | Loss: 0.0004444979131221771 | Test loss: 0.0005780101055279374\n",
            "Epoch: 1800 | Loss: 0.0004444979131221771 | Test loss: 0.0005780101055279374\n",
            "Epoch: 1810 | Loss: 0.0004444979131221771 | Test loss: 0.0005780101055279374\n",
            "Epoch: 1820 | Loss: 0.0004444979131221771 | Test loss: 0.0005780101055279374\n",
            "Epoch: 1830 | Loss: 0.0004444979131221771 | Test loss: 0.0005780101055279374\n",
            "Epoch: 1840 | Loss: 0.0004444979131221771 | Test loss: 0.0005780101055279374\n",
            "Epoch: 1850 | Loss: 0.0004444979131221771 | Test loss: 0.0005780101055279374\n",
            "Epoch: 1860 | Loss: 0.0004444979131221771 | Test loss: 0.0005780101055279374\n",
            "Epoch: 1870 | Loss: 0.0004444979131221771 | Test loss: 0.0005780101055279374\n",
            "Epoch: 1880 | Loss: 0.0004444979131221771 | Test loss: 0.0005780101055279374\n",
            "Epoch: 1890 | Loss: 0.0004444979131221771 | Test loss: 0.0005780101055279374\n",
            "Epoch: 1900 | Loss: 0.0004444979131221771 | Test loss: 0.0005780101055279374\n",
            "Epoch: 1910 | Loss: 0.0004444979131221771 | Test loss: 0.0005780101055279374\n",
            "Epoch: 1920 | Loss: 0.0004444979131221771 | Test loss: 0.0005780101055279374\n",
            "Epoch: 1930 | Loss: 0.0004444979131221771 | Test loss: 0.0005780101055279374\n",
            "Epoch: 1940 | Loss: 0.0004444979131221771 | Test loss: 0.0005780101055279374\n",
            "Epoch: 1950 | Loss: 0.0004444979131221771 | Test loss: 0.0005780101055279374\n",
            "Epoch: 1960 | Loss: 0.0004444979131221771 | Test loss: 0.0005780101055279374\n",
            "Epoch: 1970 | Loss: 0.0004444979131221771 | Test loss: 0.0005780101055279374\n",
            "Epoch: 1980 | Loss: 0.0004444979131221771 | Test loss: 0.0005780101055279374\n",
            "Epoch: 1990 | Loss: 0.0004444979131221771 | Test loss: 0.0005780101055279374\n"
          ]
        }
      ]
    },
    {
      "cell_type": "code",
      "source": [
        "# Plot the loss curves\n",
        "plt.plot(epoch_count, np.array(torch.tensor(loss_values).numpy()), label= \"Train loss\")\n",
        "plt.plot(epoch_count, test_loss_values, label= \"Test loss\")\n",
        "plt.title(\"Training and test loss curves\")\n",
        "plt.ylabel(\"Loss\")\n",
        "plt.xlabel(\"Epochs\")\n",
        "plt.legend();"
      ],
      "metadata": {
        "colab": {
          "base_uri": "https://localhost:8080/",
          "height": 472
        },
        "id": "uVyQLv2EwMAW",
        "outputId": "32ffff18-b324-4faa-c184-4d7ca90eda52"
      },
      "execution_count": null,
      "outputs": [
        {
          "output_type": "display_data",
          "data": {
            "text/plain": [
              "<Figure size 640x480 with 1 Axes>"
            ],
            "image/png": "[encoded data removed]"
          },
          "metadata": {}
        }
      ]
    },
    {
      "cell_type": "code",
      "source": [
        "model_0.state_dict()"
      ],
      "metadata": {
        "colab": {
          "base_uri": "https://localhost:8080/"
        },
        "id": "rLdnxkwEpcJQ",
        "outputId": "67234835-a08a-40ec-ca9d-5b0fe5a512f7"
      },
      "execution_count": null,
      "outputs": [
        {
          "output_type": "execute_result",
          "data": {
            "text/plain": [
              "OrderedDict([('weights', tensor([0.6994])), ('bais', tensor([0.2998]))])"
            ]
          },
          "metadata": {},
          "execution_count": 256
        }
      ]
    },
    {
      "cell_type": "code",
      "source": [
        "with torch.inference_mode():\n",
        "  y_preds_new = model_0(X_test)"
      ],
      "metadata": {
        "id": "8SufZ150ptKG"
      },
      "execution_count": null,
      "outputs": []
    },
    {
      "cell_type": "code",
      "source": [
        "plot_predictions(predictions=y_preds)"
      ],
      "metadata": {
        "colab": {
          "base_uri": "https://localhost:8080/",
          "height": 498
        },
        "id": "8iMz_d-Uq1AQ",
        "outputId": "5be06699-cf20-4f39-d21d-ac05ad7caf38"
      },
      "execution_count": null,
      "outputs": [
        {
          "output_type": "display_data",
          "data": {
            "text/plain": [
              "<Figure size 1000x700 with 1 Axes>"
            ],
            "image/png": "[encoded data removed]"
          },
          "metadata": {}
        }
      ]
    },
    {
      "cell_type": "code",
      "source": [
        "plot_predictions(predictions=y_preds_new)"
      ],
      "metadata": {
        "colab": {
          "base_uri": "https://localhost:8080/",
          "height": 498
        },
        "id": "rMaxbX-cq6tI",
        "outputId": "ce4de3a8-eb07-438e-a08e-ee69f818b433"
      },
      "execution_count": null,
      "outputs": [
        {
          "output_type": "display_data",
          "data": {
            "text/plain": [
              "<Figure size 1000x700 with 1 Axes>"
            ],
            "image/png": "[encoded data removed]"
          },
          "metadata": {}
        }
      ]
    },
    {
      "cell_type": "markdown",
      "source": [
        "### Saving a model in PyTorch\n",
        "\n",
        "1. `torch.save()` - allows you save a PyTorch object in Python's pickle format\n",
        "2.  `torch.load()` - allows you load a PyTorch object in Python's pickle format.\n",
        "3. `torch.nn.Module.load_state_dict()` - this allows to load a model's saved state dictionary"
      ],
      "metadata": {
        "id": "vIEiy9x9zRv8"
      }
    },
    {
      "cell_type": "code",
      "source": [
        "# Saving our PyTorch model\n",
        "from pathlib import Path\n",
        "\n",
        "# 1. Create models directory\n",
        "MODEL_PATH = Path(\"models\")\n",
        "MODEL_PATH.mkdir(parents=True, exist_ok=True)\n",
        "\n",
        "# 2. Create model save path\n",
        "MODEL_NAME = \"01_pytorch_workflow_model_0.pth\"\n",
        "MODEL_SAVE_PATH = MODEL_PATH / MODEL_NAME\n",
        "MODEL_SAVE_PATH\n",
        "\n",
        "# 3. Save the model's state dict\n",
        "print(f\"Saving model to : {MODEL_SAVE_PATH}\")\n",
        "torch.save(obj=model_0.state_dict(), f=MODEL_SAVE_PATH)"
      ],
      "metadata": {
        "colab": {
          "base_uri": "https://localhost:8080/"
        },
        "id": "BOLyXYTnrAto",
        "outputId": "c265801b-5590-405d-9a21-dcdfa9e1ad25"
      },
      "execution_count": null,
      "outputs": [
        {
          "output_type": "stream",
          "name": "stdout",
          "text": [
            "Saving model to : models/01_pytorch_workflow_model_0.pth\n"
          ]
        }
      ]
    },
    {
      "cell_type": "code",
      "source": [
        "## Loading\n",
        "loaded_model_0 = LinearRegressionModel()\n",
        "\n",
        "print(f\"Before loading: {loaded_model_0.state_dict()}\")\n",
        "\n",
        "loaded_model_0.load_state_dict(torch.load(f=MODEL_SAVE_PATH))\n",
        "\n",
        "print(f\"After loading: {loaded_model_0.state_dict()}\")"
      ],
      "metadata": {
        "colab": {
          "base_uri": "https://localhost:8080/"
        },
        "id": "z-MSsQHE1mEq",
        "outputId": "6999e29d-b047-44c0-f0e1-7765c90064d3"
      },
      "execution_count": null,
      "outputs": [
        {
          "output_type": "stream",
          "name": "stdout",
          "text": [
            "Before loading: OrderedDict([('weights', tensor([2.2082])), ('bais', tensor([-0.6380]))])\n",
            "After loading: OrderedDict([('weights', tensor([0.6994])), ('bais', tensor([0.2998]))])\n"
          ]
        }
      ]
    },
    {
      "cell_type": "code",
      "source": [
        "class LinearRegressionModelV2(nn.Module):\n",
        "  def __init__(self):\n",
        "    super().__init__()\n",
        "    # Use nn.Linear() for crearting the model params\n",
        "    self.linear_layer = nn.Linear(in_features=1, out_features=1)\n",
        "\n",
        "  def forward(self, x: torch.Tensor) -> torch.Tensor:\n",
        "    return self.linear_layer(x)\n",
        "\n",
        "# set manual seed\n",
        "torch.manual_seed(42)\n",
        "model_1 = LinearRegressionModelV2()\n",
        "\n",
        "model_1, model_1.state_dict()"
      ],
      "metadata": {
        "colab": {
          "base_uri": "https://localhost:8080/"
        },
        "id": "UqY8sbON3BDq",
        "outputId": "7397c211-14a4-4a56-f43c-c20e4d4fbc25"
      },
      "execution_count": null,
      "outputs": [
        {
          "output_type": "execute_result",
          "data": {
            "text/plain": [
              "(LinearRegressionModel2(\n",
              "   (linear_layer): Linear(in_features=1, out_features=1, bias=True)\n",
              " ),\n",
              " OrderedDict([('linear_layer.weight', tensor([[0.7645]])),\n",
              "              ('linear_layer.bias', tensor([0.8300]))]))"
            ]
          },
          "metadata": {},
          "execution_count": 266
        }
      ]
    },
    {
      "cell_type": "code",
      "source": [],
      "metadata": {
        "id": "bQv5DM6n7518"
      },
      "execution_count": null,
      "outputs": []
    }
  ]
}